{
 "cells": [
  {
   "cell_type": "markdown",
   "metadata": {},
   "source": [
    "# Import Libraries"
   ]
  },
  {
   "cell_type": "code",
   "execution_count": 1,
   "metadata": {},
   "outputs": [],
   "source": [
    "#sklearn models scalers metrics\n",
    "from sklearn.linear_model import LinearRegression\n",
    "from sklearn.tree import DecisionTreeRegressor\n",
    "from sklearn.ensemble import RandomForestRegressor\n",
    "from sklearn import svm\n",
    "from sklearn.svm import SVR, SVC\n",
    "from sklearn.neural_network import MLPRegressor\n",
    "from sklearn.model_selection import cross_val_score, cross_val_predict\n",
    "from sklearn.model_selection import KFold, RepeatedKFold\n",
    "from sklearn.preprocessing import StandardScaler  \n",
    "from sklearn.model_selection import GridSearchCV\n",
    "from sklearn.model_selection import train_test_split\n",
    "from sklearn.metrics import mean_absolute_error, mean_squared_error\n",
    "from sklearn.model_selection import learning_curve\n",
    "from scipy.interpolate import make_interp_spline, BSpline\n",
    "\n",
    "#pandas np plt\n",
    "from pandas import ExcelWriter\n",
    "from pandas import ExcelFile\n",
    "import numpy as np\n",
    "import pandas as pd\n",
    "%matplotlib inline\n",
    "import matplotlib.pyplot as plt\n",
    "\n",
    "#supress warnings\n",
    "import warnings\n",
    "warnings.filterwarnings('ignore')"
   ]
  },
  {
   "cell_type": "markdown",
   "metadata": {},
   "source": [
    "# Data Exploration"
   ]
  },
  {
   "cell_type": "markdown",
   "metadata": {},
   "source": [
    "The paper used l-of-C encoding to encode categorical variables. pandas get_dummies class was used to replicate this hopefully leading to similar results"
   ]
  },
  {
   "cell_type": "code",
   "execution_count": 2,
   "metadata": {},
   "outputs": [
    {
     "data": {
      "text/html": [
       "<div>\n",
       "<style scoped>\n",
       "    .dataframe tbody tr th:only-of-type {\n",
       "        vertical-align: middle;\n",
       "    }\n",
       "\n",
       "    .dataframe tbody tr th {\n",
       "        vertical-align: top;\n",
       "    }\n",
       "\n",
       "    .dataframe thead th {\n",
       "        text-align: right;\n",
       "    }\n",
       "</style>\n",
       "<table border=\"1\" class=\"dataframe\">\n",
       "  <thead>\n",
       "    <tr style=\"text-align: right;\">\n",
       "      <th></th>\n",
       "      <th>X</th>\n",
       "      <th>Y</th>\n",
       "      <th>FFMC</th>\n",
       "      <th>DMC</th>\n",
       "      <th>DC</th>\n",
       "      <th>ISI</th>\n",
       "      <th>temp</th>\n",
       "      <th>RH</th>\n",
       "      <th>wind</th>\n",
       "      <th>rain</th>\n",
       "      <th>...</th>\n",
       "      <th>month_may</th>\n",
       "      <th>month_nov</th>\n",
       "      <th>month_oct</th>\n",
       "      <th>month_sep</th>\n",
       "      <th>day_mon</th>\n",
       "      <th>day_sat</th>\n",
       "      <th>day_sun</th>\n",
       "      <th>day_thu</th>\n",
       "      <th>day_tue</th>\n",
       "      <th>day_wed</th>\n",
       "    </tr>\n",
       "  </thead>\n",
       "  <tbody>\n",
       "    <tr>\n",
       "      <th>512</th>\n",
       "      <td>4</td>\n",
       "      <td>3</td>\n",
       "      <td>81.6</td>\n",
       "      <td>56.7</td>\n",
       "      <td>665.6</td>\n",
       "      <td>1.9</td>\n",
       "      <td>27.8</td>\n",
       "      <td>32</td>\n",
       "      <td>2.7</td>\n",
       "      <td>0.0</td>\n",
       "      <td>...</td>\n",
       "      <td>0</td>\n",
       "      <td>0</td>\n",
       "      <td>0</td>\n",
       "      <td>0</td>\n",
       "      <td>0</td>\n",
       "      <td>0</td>\n",
       "      <td>1</td>\n",
       "      <td>0</td>\n",
       "      <td>0</td>\n",
       "      <td>0</td>\n",
       "    </tr>\n",
       "    <tr>\n",
       "      <th>513</th>\n",
       "      <td>2</td>\n",
       "      <td>4</td>\n",
       "      <td>81.6</td>\n",
       "      <td>56.7</td>\n",
       "      <td>665.6</td>\n",
       "      <td>1.9</td>\n",
       "      <td>21.9</td>\n",
       "      <td>71</td>\n",
       "      <td>5.8</td>\n",
       "      <td>0.0</td>\n",
       "      <td>...</td>\n",
       "      <td>0</td>\n",
       "      <td>0</td>\n",
       "      <td>0</td>\n",
       "      <td>0</td>\n",
       "      <td>0</td>\n",
       "      <td>0</td>\n",
       "      <td>1</td>\n",
       "      <td>0</td>\n",
       "      <td>0</td>\n",
       "      <td>0</td>\n",
       "    </tr>\n",
       "    <tr>\n",
       "      <th>514</th>\n",
       "      <td>7</td>\n",
       "      <td>4</td>\n",
       "      <td>81.6</td>\n",
       "      <td>56.7</td>\n",
       "      <td>665.6</td>\n",
       "      <td>1.9</td>\n",
       "      <td>21.2</td>\n",
       "      <td>70</td>\n",
       "      <td>6.7</td>\n",
       "      <td>0.0</td>\n",
       "      <td>...</td>\n",
       "      <td>0</td>\n",
       "      <td>0</td>\n",
       "      <td>0</td>\n",
       "      <td>0</td>\n",
       "      <td>0</td>\n",
       "      <td>0</td>\n",
       "      <td>1</td>\n",
       "      <td>0</td>\n",
       "      <td>0</td>\n",
       "      <td>0</td>\n",
       "    </tr>\n",
       "    <tr>\n",
       "      <th>515</th>\n",
       "      <td>1</td>\n",
       "      <td>4</td>\n",
       "      <td>94.4</td>\n",
       "      <td>146.0</td>\n",
       "      <td>614.7</td>\n",
       "      <td>11.3</td>\n",
       "      <td>25.6</td>\n",
       "      <td>42</td>\n",
       "      <td>4.0</td>\n",
       "      <td>0.0</td>\n",
       "      <td>...</td>\n",
       "      <td>0</td>\n",
       "      <td>0</td>\n",
       "      <td>0</td>\n",
       "      <td>0</td>\n",
       "      <td>0</td>\n",
       "      <td>1</td>\n",
       "      <td>0</td>\n",
       "      <td>0</td>\n",
       "      <td>0</td>\n",
       "      <td>0</td>\n",
       "    </tr>\n",
       "    <tr>\n",
       "      <th>516</th>\n",
       "      <td>6</td>\n",
       "      <td>3</td>\n",
       "      <td>79.5</td>\n",
       "      <td>3.0</td>\n",
       "      <td>106.7</td>\n",
       "      <td>1.1</td>\n",
       "      <td>11.8</td>\n",
       "      <td>31</td>\n",
       "      <td>4.5</td>\n",
       "      <td>0.0</td>\n",
       "      <td>...</td>\n",
       "      <td>0</td>\n",
       "      <td>1</td>\n",
       "      <td>0</td>\n",
       "      <td>0</td>\n",
       "      <td>0</td>\n",
       "      <td>0</td>\n",
       "      <td>0</td>\n",
       "      <td>0</td>\n",
       "      <td>1</td>\n",
       "      <td>0</td>\n",
       "    </tr>\n",
       "  </tbody>\n",
       "</table>\n",
       "<p>5 rows × 28 columns</p>\n",
       "</div>"
      ],
      "text/plain": [
       "     X  Y  FFMC    DMC     DC   ISI  temp  RH  wind  rain  ...  month_may  \\\n",
       "512  4  3  81.6   56.7  665.6   1.9  27.8  32   2.7   0.0  ...          0   \n",
       "513  2  4  81.6   56.7  665.6   1.9  21.9  71   5.8   0.0  ...          0   \n",
       "514  7  4  81.6   56.7  665.6   1.9  21.2  70   6.7   0.0  ...          0   \n",
       "515  1  4  94.4  146.0  614.7  11.3  25.6  42   4.0   0.0  ...          0   \n",
       "516  6  3  79.5    3.0  106.7   1.1  11.8  31   4.5   0.0  ...          0   \n",
       "\n",
       "     month_nov  month_oct  month_sep  day_mon  day_sat  day_sun  day_thu  \\\n",
       "512          0          0          0        0        0        1        0   \n",
       "513          0          0          0        0        0        1        0   \n",
       "514          0          0          0        0        0        1        0   \n",
       "515          0          0          0        0        1        0        0   \n",
       "516          1          0          0        0        0        0        0   \n",
       "\n",
       "     day_tue  day_wed  \n",
       "512        0        0  \n",
       "513        0        0  \n",
       "514        0        0  \n",
       "515        0        0  \n",
       "516        1        0  \n",
       "\n",
       "[5 rows x 28 columns]"
      ]
     },
     "execution_count": 2,
     "metadata": {},
     "output_type": "execute_result"
    }
   ],
   "source": [
    "# read file\n",
    "df_ori=pd.read_csv('forestfires.csv')\n",
    "\n",
    "#use pandas dummy encoder to encode the categorical variables\n",
    "df = pd.get_dummies(df_ori,drop_first=True)\n",
    "df.tail()"
   ]
  },
  {
   "cell_type": "code",
   "execution_count": 3,
   "metadata": {},
   "outputs": [],
   "source": [
    "# rearrange columns\n",
    "cols = df.columns.tolist()\n",
    "cols = cols[0:2] + cols[-17:] + cols[2:-17]\n",
    "df = df[cols]"
   ]
  },
  {
   "cell_type": "markdown",
   "metadata": {},
   "source": [
    "The paper transformed the skewed area target variable using the logarithm function y = ln(x+1)"
   ]
  },
  {
   "cell_type": "code",
   "execution_count": 4,
   "metadata": {},
   "outputs": [],
   "source": [
    "# create new column the transformed area feature\n",
    "df['larea'] = np.log(df.area+1)"
   ]
  },
  {
   "cell_type": "markdown",
   "metadata": {},
   "source": [
    "Plot of area feature and log transformed area feature"
   ]
  },
  {
   "cell_type": "code",
   "execution_count": 5,
   "metadata": {},
   "outputs": [
    {
     "data": {
      "image/png": "[encoded data removed]",
      "text/plain": [
       "<Figure size 1440x1080 with 2 Axes>"
      ]
     },
     "metadata": {
      "needs_background": "light"
     },
     "output_type": "display_data"
    }
   ],
   "source": [
    "df[['area','larea']].hist(bins=50,figsize=(20,15))\n",
    "plt.show()"
   ]
  },
  {
   "cell_type": "code",
   "execution_count": 6,
   "metadata": {},
   "outputs": [],
   "source": [
    "column_names = ['X','Y','month_aug','month_dec','month_feb','month_jan','month_jul','month_jun','month_mar','month_may','month_nov','month_oct','month_sep','day_mon','day_sat','day_sun','day_thu','day_tue','day_wed','FFMC','DMC','DC','ISI','temp','RH','wind','rain','area', 'larea']     "
   ]
  },
  {
   "cell_type": "code",
   "execution_count": 7,
   "metadata": {},
   "outputs": [],
   "source": [
    "feature_names = column_names[:-2]"
   ]
  },
  {
   "cell_type": "markdown",
   "metadata": {},
   "source": [
    "# Model Configurations and Evaluation"
   ]
  },
  {
   "cell_type": "markdown",
   "metadata": {},
   "source": [
    "The details given in section 4 of the paper were used to configure the models for the expetiments"
   ]
  },
  {
   "cell_type": "markdown",
   "metadata": {},
   "source": [
    "## Feature Selections"
   ]
  },
  {
   "cell_type": "code",
   "execution_count": 8,
   "metadata": {},
   "outputs": [],
   "source": [
    "X_STFWI = df.values[:,0:23]\n",
    "X_STM = df.values[:,np.r_[0:19,23:27]]\n",
    "X_FWI = df.values[:,19:23]\n",
    "X_M = df.values[:,23:27]\n",
    "X_STFWI_bk = X_STFWI.copy()\n",
    "X_STM_bk = X_STM.copy()\n",
    "X_FWI_bk = X_FWI.copy()\n",
    "X_M_bk = X_M.copy()"
   ]
  },
  {
   "cell_type": "markdown",
   "metadata": {},
   "source": [
    "## Target Variable"
   ]
  },
  {
   "cell_type": "code",
   "execution_count": 9,
   "metadata": {
    "scrolled": false
   },
   "outputs": [],
   "source": [
    "y = df[['larea']].values"
   ]
  },
  {
   "cell_type": "markdown",
   "metadata": {},
   "source": [
    "## Naive Mean Predictor"
   ]
  },
  {
   "cell_type": "code",
   "execution_count": 10,
   "metadata": {},
   "outputs": [],
   "source": [
    "df['mean_val'] = round(np.mean(df.area.values),2)"
   ]
  },
  {
   "cell_type": "code",
   "execution_count": 11,
   "metadata": {},
   "outputs": [
    {
     "name": "stdout",
     "output_type": "stream",
     "text": [
      "\n",
      " MAD for Naive Mean Predictor:  18.568742746615087 \tRMSE for Naive Mean Predictor:  63.59422604047205\n"
     ]
    }
   ],
   "source": [
    "print(\"\\n MAD for Naive Mean Predictor: \",mean_absolute_error(df.area.values, df.mean_val.values),\"\\tRMSE for Naive Mean Predictor: \",np.sqrt(mean_squared_error(df.area.values, df.mean_val.values)))"
   ]
  },
  {
   "cell_type": "markdown",
   "metadata": {},
   "source": [
    "## Decision Tree "
   ]
  },
  {
   "cell_type": "code",
   "execution_count": 12,
   "metadata": {},
   "outputs": [
    {
     "name": "stdout",
     "output_type": "stream",
     "text": [
      "\n",
      " MAD for  STFWI :  16.50947742861481 \tRMSE for  STFWI :  72.07238267768658\n",
      "\n",
      " MAD for  STM :  13.836781182847941 \tRMSE for  STM :  64.72417369405686\n",
      "\n",
      " MAD for  FWI :  13.732063247073564 \tRMSE for  FWI :  63.90315466489745\n",
      "\n",
      " MAD for  M :  14.476991183911295 \tRMSE for  M :  63.565557569516635\n"
     ]
    }
   ],
   "source": [
    "tree = DecisionTreeRegressor(criterion= \"mse\", random_state=66)\n",
    "F_M = np.zeros(shape=(517,30))\n",
    "F_FWI = np.zeros(shape=(517,30))\n",
    "F_STM = np.zeros(shape=(517,30))\n",
    "F_STFWI = np.zeros(shape=(517,30))\n",
    "for fname,f,fs in zip(['STFWI', 'STM', 'FWI', 'M'],[F_STFWI, F_STM, F_FWI, F_M],[X_STFWI, X_STM, X_FWI, X_M]):\n",
    "    for i in range(30):\n",
    "        k_fold = KFold(n_splits=10, shuffle=True, random_state=i)\n",
    "        y_pred = cross_val_predict(tree, fs, y, cv = k_fold)\n",
    "        y_pred2 = np.array(y_pred)\n",
    "        f[:, i] = y_pred2\n",
    "    \n",
    "    f_predicted = np.mean(f, axis = 1)\n",
    "    natural_f = np.exp(f_predicted) - 1\n",
    "    for i in range(len(natural_f)):\n",
    "        if natural_f[i] < 0:\n",
    "            natural_f[i] = 0\n",
    "        \n",
    "    print(\"\\n MAD for \", fname, \": \", mean_absolute_error(df.area.values, natural_f), \"\\tRMSE for \", fname, \": \", np.sqrt(mean_squared_error(df.area.values, natural_f)))\n",
    "    "
   ]
  },
  {
   "cell_type": "markdown",
   "metadata": {},
   "source": [
    "## Random Forest"
   ]
  },
  {
   "cell_type": "code",
   "execution_count": 13,
   "metadata": {},
   "outputs": [
    {
     "name": "stdout",
     "output_type": "stream",
     "text": [
      "\n",
      " MAD for  STFWI :  13.722712681694713 \tRMSE for  STFWI :  64.55388410775448\n",
      "\n",
      " MAD for  STM :  13.153766457370013 \tRMSE for  STM :  64.50284474245088\n",
      "\n",
      " MAD for  FWI :  13.555289990101153 \tRMSE for  FWI :  64.08969797466243\n",
      "\n",
      " MAD for  M :  13.175747985668938 \tRMSE for  M :  63.85453662848482\n"
     ]
    }
   ],
   "source": [
    "rf = RandomForestRegressor(random_state=66)\n",
    "F_M = np.zeros(shape=(517,30))\n",
    "F_FWI = np.zeros(shape=(517,30))\n",
    "F_STM = np.zeros(shape=(517,30))\n",
    "F_STFWI = np.zeros(shape=(517,30))\n",
    "for fname,f,fs in zip(['STFWI', 'STM', 'FWI', 'M'],[F_STFWI, F_STM, F_FWI, F_M],[X_STFWI, X_STM, X_FWI, X_M]):\n",
    "    for i in range(30):\n",
    "        k_fold = KFold(n_splits=10, shuffle=True, random_state=i)\n",
    "        y_pred = cross_val_predict(rf, fs, y.ravel(), cv = k_fold)\n",
    "        y_pred2 = np.array(y_pred)\n",
    "        f[:, i] = y_pred2\n",
    "    \n",
    "    f_predicted = np.mean(f, axis = 1)\n",
    "    natural_f = np.exp(f_predicted) - 1\n",
    "    for i in range(len(natural_f)):\n",
    "        if natural_f[i] < 0:\n",
    "            natural_f[i] = 0\n",
    "    f_predicted_m_rf = natural_f\n",
    "    print(\"\\n MAD for \", fname, \": \", mean_absolute_error(df.area.values, natural_f), \"\\tRMSE for \", fname, \": \", np.sqrt(mean_squared_error(df.area.values, natural_f)))\n",
    "    "
   ]
  },
  {
   "cell_type": "markdown",
   "metadata": {},
   "source": [
    "## Multiple Linear Regression "
   ]
  },
  {
   "cell_type": "code",
   "execution_count": 14,
   "metadata": {},
   "outputs": [
    {
     "name": "stdout",
     "output_type": "stream",
     "text": [
      "\n",
      " MAD for  STFWI :  13.039844578109836 \tRMSE for  STFWI :  64.45414519304298\n",
      "\n",
      " MAD for  STM :  13.04437132578227 \tRMSE for  STM :  64.45861626193569\n",
      "\n",
      " MAD for  FWI :  12.992488179119764 \tRMSE for  FWI :  64.49173509974511\n",
      "\n",
      " MAD for  M :  13.003938821145786 \tRMSE for  M :  64.48140842918858\n"
     ]
    }
   ],
   "source": [
    "reg = LinearRegression()\n",
    "F_M = np.zeros(shape=(517,30))\n",
    "F_FWI = np.zeros(shape=(517,30))\n",
    "F_STM = np.zeros(shape=(517,30))\n",
    "F_STFWI = np.zeros(shape=(517,30))\n",
    "for fname,f,fs in zip(['STFWI', 'STM', 'FWI', 'M'],[F_STFWI, F_STM, F_FWI, F_M],[X_STFWI, X_STM, X_FWI, X_M]):\n",
    "    for i in range(30):\n",
    "        k_fold = KFold(n_splits=10, shuffle=True, random_state=i)\n",
    "        y_pred = cross_val_predict(reg, fs, y.ravel(), cv = k_fold)\n",
    "        y_pred2 = np.array(y_pred)\n",
    "        f[:, i] = y_pred2\n",
    "    \n",
    "    f_predicted = np.mean(f, axis = 1)\n",
    "    natural_f = np.exp(f_predicted) - 1\n",
    "    for i in range(len(natural_f)):\n",
    "        if natural_f[i] < 0:\n",
    "            natural_f[i] = 0\n",
    "    print(\"\\n MAD for \", fname, \": \", mean_absolute_error(df.area.values, natural_f), \"\\tRMSE for \", fname, \": \", np.sqrt(mean_squared_error(df.area.values, natural_f)))\n",
    "    "
   ]
  },
  {
   "cell_type": "markdown",
   "metadata": {},
   "source": [
    "Based on the research, the input features need to be scaled for the NN and SVM "
   ]
  },
  {
   "cell_type": "code",
   "execution_count": 15,
   "metadata": {},
   "outputs": [],
   "source": [
    "sc = StandardScaler()\n",
    "df_scale = sc.fit(df.values[:,:-2]).transform(df.values[:,:-2])"
   ]
  },
  {
   "cell_type": "code",
   "execution_count": 16,
   "metadata": {},
   "outputs": [],
   "source": [
    "X_STFWI = df_scale[:,0:23]\n",
    "X_STM = df_scale[:,np.r_[0:19,23:27]]\n",
    "X_FWI = df_scale[:,19:23]\n",
    "X_M = df_scale[:,23:27]\n"
   ]
  },
  {
   "cell_type": "markdown",
   "metadata": {},
   "source": [
    "## Grid Search: Support Vector Machine "
   ]
  },
  {
   "cell_type": "code",
   "execution_count": 17,
   "metadata": {},
   "outputs": [
    {
     "name": "stdout",
     "output_type": "stream",
     "text": [
      "\n",
      "Gamma for  STFWI :  {'gamma': 0.001953125}\n",
      "\n",
      "Gamma for  STM :  {'gamma': 0.5}\n",
      "\n",
      "Gamma for  FWI :  {'gamma': 0.5}\n",
      "\n",
      "Gamma for  M :  {'gamma': 0.125}\n"
     ]
    }
   ],
   "source": [
    "svr = SVR()\n",
    "hyperparams = [{'gamma':[2**-9,2**-7,2**-5,2**-3,2**-1]}]\n",
    "grid_search = GridSearchCV(svr, hyperparams, cv=10)\n",
    "for fname,f,fs in zip(['STFWI', 'STM', 'FWI', 'M'],[F_STFWI, F_STM, F_FWI, F_M],[X_STFWI, X_STM, X_FWI, X_M]):\n",
    "    grid_search.fit(fs, y.ravel())\n",
    "    print(\"\\nGamma for \", fname, \": \", grid_search.best_params_)"
   ]
  },
  {
   "cell_type": "markdown",
   "metadata": {},
   "source": [
    "## Support Vector Machine: Paper Grid Search Parameters Used"
   ]
  },
  {
   "cell_type": "code",
   "execution_count": 18,
   "metadata": {},
   "outputs": [
    {
     "name": "stdout",
     "output_type": "stream",
     "text": [
      "\n",
      " MAD for  STFWI :  12.801721284321381 \tRMSE for  STFWI :  64.70284960966119 \tgamma:  0.03125\n",
      "\n",
      " MAD for  STM :  12.859065954795161 \tRMSE for  STM :  64.71496679882961 \tgamma:  0.125\n",
      "\n",
      " MAD for  FWI :  12.889905372979028 \tRMSE for  FWI :  64.75691339121498 \tgamma:  0.125\n",
      "\n",
      " MAD for  M :  12.68864073448931 \tRMSE for  M :  64.69439095065047 \tgamma:  0.125\n"
     ]
    }
   ],
   "source": [
    "F_M = np.zeros(shape=(517,30))\n",
    "F_FWI = np.zeros(shape=(517,30))\n",
    "F_STM = np.zeros(shape=(517,30))\n",
    "F_STFWI = np.zeros(shape=(517,30))\n",
    "for fname,f,fs,g in zip(['STFWI', 'STM', 'FWI', 'M'],[F_STFWI, F_STM, F_FWI, F_M],[X_STFWI, X_STM, X_FWI, X_M],[2**-5, 2**-3, 2**-3, 2**-3]):\n",
    "    svr = SVR(gamma=g)\n",
    "    for i in range(30):\n",
    "        k_fold = KFold(n_splits=10, shuffle=True, random_state=i)\n",
    "        y_pred = cross_val_predict(svr, fs, y.ravel(), cv = k_fold)\n",
    "        y_pred2 = np.array(y_pred)\n",
    "        f[:, i] = y_pred2\n",
    "    \n",
    "    f_predicted = np.mean(f, axis = 1)\n",
    "    natural_f = np.exp(f_predicted) - 1\n",
    "    for i in range(len(natural_f)):\n",
    "        if natural_f[i] < 0:\n",
    "            natural_f[i] = 0\n",
    "    print(\"\\n MAD for \", fname, \": \", mean_absolute_error(df.area.values, natural_f), \"\\tRMSE for \", fname, \": \", np.sqrt(mean_squared_error(df.area.values, natural_f)),\"\\tgamma: \",g)\n",
    "    "
   ]
  },
  {
   "cell_type": "markdown",
   "metadata": {},
   "source": [
    "## Support Vector Machine: My Grid Search Parameters Used"
   ]
  },
  {
   "cell_type": "code",
   "execution_count": 19,
   "metadata": {},
   "outputs": [
    {
     "name": "stdout",
     "output_type": "stream",
     "text": [
      "\n",
      " MAD for  STFWI :  12.785821683381517 \tRMSE for  STFWI :  64.72536088442423 \tgamma:  0.001953125\n",
      "\n",
      " MAD for  STM :  12.859509436622591 \tRMSE for  STM :  64.68536021131251 \tgamma:  0.5\n",
      "\n",
      " MAD for  FWI :  12.82134520002155 \tRMSE for  FWI :  64.73318932697072 \tgamma:  0.5\n",
      "\n",
      " MAD for  M :  12.68864073448931 \tRMSE for  M :  64.69439095065047 \tgamma:  0.125\n"
     ]
    }
   ],
   "source": [
    "F_M = np.zeros(shape=(517,30))\n",
    "F_FWI = np.zeros(shape=(517,30))\n",
    "F_STM = np.zeros(shape=(517,30))\n",
    "F_STFWI = np.zeros(shape=(517,30))\n",
    "for fname,f,fs,g in zip(['STFWI', 'STM', 'FWI', 'M'],[F_STFWI, F_STM, F_FWI, F_M],[X_STFWI, X_STM, X_FWI, X_M],[2**-9, 2**-1, 2**-1, 2**-3]):\n",
    "    svr = SVR(gamma=g)\n",
    "    for i in range(30):\n",
    "        k_fold = KFold(n_splits=10, shuffle=True, random_state=i)\n",
    "        y_pred = cross_val_predict(svr, fs, y.ravel(), cv = k_fold)\n",
    "        y_pred2 = np.array(y_pred)\n",
    "        f[:, i] = y_pred2\n",
    "    \n",
    "    f_predicted = np.mean(f, axis = 1)\n",
    "    natural_f = np.exp(f_predicted) - 1\n",
    "    for i in range(len(natural_f)):\n",
    "        if natural_f[i] < 0:\n",
    "            natural_f[i] = 0\n",
    "    f_predicted_m_svm = natural_f\n",
    "    print(\"\\n MAD for \", fname, \": \", mean_absolute_error(df.area.values, natural_f), \"\\tRMSE for \", fname, \": \", np.sqrt(mean_squared_error(df.area.values, natural_f)),\"\\tgamma: \",g)\n",
    "    #print(\"\\n\",svr)\n",
    "    "
   ]
  },
  {
   "cell_type": "markdown",
   "metadata": {},
   "source": [
    "## Grid Search: Neural Network"
   ]
  },
  {
   "cell_type": "code",
   "execution_count": 20,
   "metadata": {},
   "outputs": [
    {
     "name": "stdout",
     "output_type": "stream",
     "text": [
      "\n",
      "H for  STFWI :  {'hidden_layer_sizes': 4}\n",
      "\n",
      "H for  STM :  {'hidden_layer_sizes': 4}\n",
      "\n",
      "H for  FWI :  {'hidden_layer_sizes': 4}\n",
      "\n",
      "H for  M :  {'hidden_layer_sizes': 4}\n"
     ]
    }
   ],
   "source": [
    "mlp = MLPRegressor(activation='identity',solver='lbfgs',max_iter=100,n_iter_no_change =3,random_state=66)\n",
    "\n",
    "param_grid = [{'hidden_layer_sizes':[2,4,6,8]}]\n",
    "grid_search = GridSearchCV(estimator=mlp, param_grid=param_grid, cv=10)\n",
    "for fname,f,fs in zip(['STFWI', 'STM', 'FWI', 'M'],[F_STFWI, F_STM, F_FWI, F_M],[X_STFWI, X_STM, X_FWI, X_M]):\n",
    "    grid_search.fit(X_STFWI, y.ravel())\n",
    "    print(\"\\nH for \", fname, \": \", grid_search.best_params_)"
   ]
  },
  {
   "cell_type": "markdown",
   "metadata": {},
   "source": [
    "## Neural Network: Paper Grid Search Parameters Used"
   ]
  },
  {
   "cell_type": "code",
   "execution_count": 21,
   "metadata": {},
   "outputs": [
    {
     "name": "stdout",
     "output_type": "stream",
     "text": [
      "\n",
      " MAD for  STFWI :  13.022265135598081 \tRMSE for  STFWI :  64.44416382078353 \tH:  4\n",
      "\n",
      " MAD for  STM :  13.042695254784741 \tRMSE for  STM :  64.4562448228962 \tH:  6\n",
      "\n",
      " MAD for  FWI :  12.992497065480185 \tRMSE for  FWI :  64.49173658905585 \tH:  4\n",
      "\n",
      " MAD for  M :  13.003923523879157 \tRMSE for  M :  64.48142368671304 \tH:  4\n"
     ]
    }
   ],
   "source": [
    "F_M = np.zeros(shape=(517,30))\n",
    "F_FWI = np.zeros(shape=(517,30))\n",
    "F_STM = np.zeros(shape=(517,30))\n",
    "F_STFWI = np.zeros(shape=(517,30))\n",
    "for fname,f,fs,h in zip(['STFWI', 'STM', 'FWI', 'M'],[F_STFWI, F_STM, F_FWI, F_M],[X_STFWI, X_STM, X_FWI, X_M],[4, 6, 4, 4]):\n",
    "    mlp = MLPRegressor(hidden_layer_sizes=h,activation='identity',solver='lbfgs',max_iter=100,n_iter_no_change =3,random_state=66)\n",
    "    for i in range(30):\n",
    "        k_fold = KFold(n_splits=10, shuffle=True, random_state=i)\n",
    "        y_pred = cross_val_predict(mlp, fs, y.ravel(), cv = k_fold)\n",
    "        y_pred2 = np.array(y_pred)\n",
    "        f[:, i] = y_pred2\n",
    "    \n",
    "    f_predicted = np.mean(f, axis = 1)\n",
    "    natural_f = np.exp(f_predicted) - 1\n",
    "    for i in range(len(natural_f)):\n",
    "        if natural_f[i] < 0:\n",
    "            natural_f[i] = 0\n",
    "    print(\"\\n MAD for \", fname, \": \", mean_absolute_error(df.area.values, natural_f), \"\\tRMSE for \", fname, \": \", np.sqrt(mean_squared_error(df.area.values, natural_f)),\"\\tH: \",h)\n",
    "    #print(\"\\n\",mlp)\n",
    "    "
   ]
  },
  {
   "cell_type": "markdown",
   "metadata": {},
   "source": [
    "## Neural Network: My Grid Search Parameters Used"
   ]
  },
  {
   "cell_type": "code",
   "execution_count": 22,
   "metadata": {},
   "outputs": [
    {
     "name": "stdout",
     "output_type": "stream",
     "text": [
      "\n",
      " MAD for  STFWI :  13.022265135598081 \tRMSE for  STFWI :  64.44416382078353 \tH:  4\n",
      "\n",
      " MAD for  STM :  13.007725433879637 \tRMSE for  STM :  64.43862031081514 \tH:  4\n",
      "\n",
      " MAD for  FWI :  12.992497065480185 \tRMSE for  FWI :  64.49173658905585 \tH:  4\n",
      "\n",
      " MAD for  M :  13.003923523879157 \tRMSE for  M :  64.48142368671304 \tH:  4\n"
     ]
    }
   ],
   "source": [
    "F_M = np.zeros(shape=(517,30))\n",
    "F_FWI = np.zeros(shape=(517,30))\n",
    "F_STM = np.zeros(shape=(517,30))\n",
    "F_STFWI = np.zeros(shape=(517,30))\n",
    "for fname,f,fs,h in zip(['STFWI', 'STM', 'FWI', 'M'],[F_STFWI, F_STM, F_FWI, F_M],[X_STFWI, X_STM, X_FWI, X_M],[4, 4, 4, 4]):\n",
    "    mlp = MLPRegressor(hidden_layer_sizes=h,activation='identity',solver='lbfgs',max_iter=100,n_iter_no_change =3,random_state=66)\n",
    "    for i in range(30):\n",
    "        k_fold = KFold(n_splits=10, shuffle=True, random_state=i)\n",
    "        y_pred = cross_val_predict(mlp, fs, y.ravel(), cv = k_fold)\n",
    "        y_pred2 = np.array(y_pred)\n",
    "        f[:, i] = y_pred2\n",
    "    \n",
    "    f_predicted = np.mean(f, axis = 1)\n",
    "    natural_f = np.exp(f_predicted) - 1\n",
    "    for i in range(len(natural_f)):\n",
    "        if natural_f[i] < 0:\n",
    "            natural_f[i] = 0\n",
    "    f_predicted_m_nn = natural_f\n",
    "    print(\"\\n MAD for \", fname, \": \", mean_absolute_error(df.area.values, natural_f), \"\\tRMSE for \", fname, \": \", np.sqrt(mean_squared_error(df.area.values, natural_f)),\"\\tH: \",h)\n",
    "    #print(\"\\n\",mlp)\n",
    "    "
   ]
  },
  {
   "cell_type": "markdown",
   "metadata": {},
   "source": [
    "# Regression Error Characteristic (REC) Curve"
   ]
  },
  {
   "cell_type": "code",
   "execution_count": 23,
   "metadata": {},
   "outputs": [],
   "source": [
    "ae1 = np.linspace(0, 20, num=300, endpoint=False)\n",
    "#ae1"
   ]
  },
  {
   "cell_type": "code",
   "execution_count": 24,
   "metadata": {},
   "outputs": [],
   "source": [
    "naive_df = {'y_vals':  df.area.values,\n",
    "        'mean_val': df.mean_val.values\n",
    "        }\n",
    "df_naive = pd.DataFrame(naive_df, columns = ['y_vals','mean_val'])\n",
    "df_naive['diff'] = np.abs(df_naive.y_vals-df_naive.mean_val)"
   ]
  },
  {
   "cell_type": "code",
   "execution_count": 25,
   "metadata": {},
   "outputs": [],
   "source": [
    "naive_perc1 = []\n",
    "for i in ae1:\n",
    "    v = (df_naive['diff'] <= i).values.sum()\n",
    "    naive_perc1.append((v/517)*100)\n",
    "\n",
    "#naive_perc1"
   ]
  },
  {
   "cell_type": "code",
   "execution_count": 26,
   "metadata": {},
   "outputs": [],
   "source": [
    "svm_df = {'y_vals':  df.area.values,\n",
    "        'pred_val': f_predicted_m_svm\n",
    "        }\n",
    "df_svm = pd.DataFrame(svm_df, columns = ['y_vals','pred_val'])\n",
    "df_svm['diff'] = np.abs(df_svm.y_vals-df_svm.pred_val)"
   ]
  },
  {
   "cell_type": "code",
   "execution_count": 27,
   "metadata": {},
   "outputs": [],
   "source": [
    "svm_perc1 = []\n",
    "for i in ae1:\n",
    "    v = (df_svm['diff'] <= i).values.sum()\n",
    "    svm_perc1.append((v/517)*100)\n",
    "\n",
    "#svm_perc1"
   ]
  },
  {
   "cell_type": "code",
   "execution_count": 28,
   "metadata": {},
   "outputs": [],
   "source": [
    "rf_df = {'y_vals':  df.area.values,\n",
    "        'pred_val': f_predicted_m_rf\n",
    "        }\n",
    "df_rf = pd.DataFrame(rf_df, columns = ['y_vals','pred_val'])\n",
    "df_rf['diff'] = np.abs(df_rf.y_vals-df_rf.pred_val)"
   ]
  },
  {
   "cell_type": "code",
   "execution_count": 29,
   "metadata": {},
   "outputs": [],
   "source": [
    "rf_perc1 = []\n",
    "for i in ae1:\n",
    "    v = (df_rf['diff'] <= i).values.sum()\n",
    "    rf_perc1.append((v/517)*100)\n",
    "\n",
    "#rf_perc1"
   ]
  },
  {
   "cell_type": "code",
   "execution_count": 30,
   "metadata": {},
   "outputs": [
    {
     "data": {
      "text/plain": [
       "<matplotlib.legend.Legend at 0x1b85f1f61d0>"
      ]
     },
     "execution_count": 30,
     "metadata": {},
     "output_type": "execute_result"
    },
    {
     "data": {
      "image/png": "[encoded data removed]",
      "text/plain": [
       "<Figure size 432x288 with 1 Axes>"
      ]
     },
     "metadata": {
      "needs_background": "light"
     },
     "output_type": "display_data"
    }
   ],
   "source": [
    "plt.ylim(-5, 100)\n",
    "plt.xlim(-0.5,15.5)\n",
    "plt.title('REC Curve')\n",
    "plt.ylabel('Tolerance')\n",
    "plt.xlabel('Absolute error')\n",
    "plt.xticks(np.arange(0, 20, step=5))\n",
    "plt.plot(ae1,naive_perc1, 'r--',label='Naive Mean Predictor')\n",
    "plt.plot(ae1,rf_perc1, 'g--',label='Random Forest - M')\n",
    "plt.plot(ae1,svm_perc1, 'b',label='SVM - M')\n",
    "plt.legend(loc='lower right')"
   ]
  },
  {
   "cell_type": "code",
   "execution_count": null,
   "metadata": {},
   "outputs": [],
   "source": []
  }
 ],
 "metadata": {
  "kernelspec": {
   "display_name": "Python 3",
   "language": "python",
   "name": "python3"
  },
  "language_info": {
   "codemirror_mode": {
    "name": "ipython",
    "version": 3
   },
   "file_extension": ".py",
   "mimetype": "text/x-python",
   "name": "python",
   "nbconvert_exporter": "python",
   "pygments_lexer": "ipython3",
   "version": "3.6.7"
  }
 },
 "nbformat": 4,
 "nbformat_minor": 2
}
